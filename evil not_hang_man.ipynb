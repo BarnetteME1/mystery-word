{
 "cells": [
  {
   "cell_type": "code",
   "execution_count": 1,
   "metadata": {
    "collapsed": true
   },
   "outputs": [],
   "source": [
    "with open('/usr/share/dict/words') as infile:\n",
    "    list_of_words = infile.read().split()\n",
    "\n",
    "\n",
    "from string import ascii_lowercase\n",
    "from random import randint\n",
    "\n",
    "\n",
    "letter_value = {'a': 1, 'b': 3, 'c': 3, 'd': 2, 'e': 1, 'f': 4, 'g': 2, 'h': 4, 'i': 1,\n",
    "                'j': 8, 'k': 5, 'l': 1, 'm': 3, 'n': 1, 'o': 1, 'p': 3, 'q': 9, 'r': 1,\n",
    "                's': 1, 't': 1, 'u': 1, 'v': 4, 'w': 4, 'x': 8, 'y': 4, 'z': 10}\n",
    "\n",
    "\n",
    "def find_occurences(word, char):\n",
    "    return [i for i, letter in enumerate(word) if letter == char]\n",
    "\n",
    "\n",
    "def play_again():\n",
    "    response = input(\"Do you want to run this program again? Y/N \").lower()\n",
    "    if response == 'y':\n",
    "        print(\"\\n Another word coming your way!\")\n",
    "        not_hang_man()\n",
    "    elif response == 'n':\n",
    "        return\"Bye.\"\n",
    "    else:\n",
    "        print (\"{} is not an option!\".format(response))\n",
    "        play_again()\n",
    "\n",
    "\n",
    "def random_word(word_list):\n",
    "    random_digit = randint(0,len(word_list))\n",
    "    return word_list[random_digit]\n",
    "\n",
    "\n",
    "def word_value(word):\n",
    "    value = 0\n",
    "    for letter in letter_value:\n",
    "        if letter in word:\n",
    "            value += letter_value[letter]\n",
    "    return value\n",
    "\n",
    "\n",
    "def value_dictionary(word_list):\n",
    "    word_value_dict = {}\n",
    "    for word in word_list:\n",
    "        value = word_value(word)\n",
    "        word_value_dict[word] = value\n",
    "    return word_value_dict\n",
    "dictionary_of_value = value_dictionary(list_of_words)\n",
    "\n",
    "\n",
    "def highest_value(dictionary):\n",
    "    largest_value = 0\n",
    "    for word in dictionary:\n",
    "        if dictionary_of_value[word] > largest_value:\n",
    "            largest_value = dictionary_of_value[word]\n",
    "    return largest_value\n",
    "\n",
    "\n",
    "def difficulty_level():\n",
    "    difficulty = input(\"easy, medium or hard game? \".lower())\n",
    "    word_list = value_dictionary(list_of_words)\n",
    "    numerator = highest_value(word_list)\n",
    "    easy = []\n",
    "    medium = []\n",
    "    hard = []\n",
    "    for word in word_list:\n",
    "        if word_list[word] < (numerator * (1/3)):\n",
    "            easy.append(word)\n",
    "        if word_list[word] < (numerator * (2/3)) and word_list[word] >= (numerator * (1/3)):\n",
    "            medium.append(word)\n",
    "        if word_list[word] <= numerator and word_list[word] >= (numerator * (2/3)):\n",
    "            hard.append(word)\n",
    "    if difficulty == 'easy':\n",
    "        return easy\n",
    "    elif difficulty == 'medium':\n",
    "        return medium\n",
    "    elif difficulty == 'hard':\n",
    "        return hard\n",
    "    else:\n",
    "        print (\"{} is not an option!\".format(difficulty))\n",
    "        return difficulty_level()\n",
    "\n",
    "def not_hang_man():\n",
    "    word = (random_word(difficulty_level()).lower())\n",
    "    letter_list = list(word)\n",
    "    words_guessed = []\n",
    "    print ('your word is {} letters long'.format(len(word)))\n",
    "    num_of_guesses = 0\n",
    "    total_guesses = 8\n",
    "    occurance = []\n",
    "    blank = list('_' * len(word))\n",
    "\n",
    "    while num_of_guesses < total_guesses:\n",
    "        remaining = total_guesses-num_of_guesses\n",
    "        print('you can guess {} more times'.format(remaining))\n",
    "        guess = (input('\\nguess a letter ').lower())\n",
    "        if len(guess) > 1:\n",
    "            print (\"That's too many\")\n",
    "            guess = (input('\\nguess a letter ').lower())\n",
    "        if guess not in ascii_lowercase:\n",
    "            print (\"That's not a letter\")\n",
    "            guess = (input('\\nguess a letter ').lower())\n",
    "        if guess not in words_guessed:\n",
    "            words_guessed.append(guess)\n",
    "            if guess in letter_list:\n",
    "                occurance = find_occurences(letter_list, guess)\n",
    "                for position in occurance:\n",
    "                    blank[position] = letter_list[position]\n",
    "                print(\"\".join(blank))\n",
    "                if ''.join(blank) == word:\n",
    "                    print('Good Jorb Homegrown!')\n",
    "                    break\n",
    "            else:\n",
    "                print(\"\".join(blank))\n",
    "                num_of_guesses+=1\n",
    "\n",
    "        else:\n",
    "            print(\"You already guessed that.\")\n",
    "            print(\"\".join(blank))\n",
    "    if num_of_guesses >= 8:\n",
    "        print('FAILURE! the word was {}'.format(word))\n",
    "    play_again()\n",
    "    return \"Bye!\"\n",
    "\n",
    "#print(not_hang_man())"
   ]
  },
  {
   "cell_type": "code",
   "execution_count": 2,
   "metadata": {
    "collapsed": true
   },
   "outputs": [],
   "source": [
    "def random_word(word_list):\n",
    "    random_digit = randint(0,len(word_list))\n",
    "    return word_list[random_digit]\n",
    "\n",
    "def azubu_frost():\n",
    "    wordpool = []\n",
    "    random_word_length = len(random_word(list_of_words))\n",
    "    for word in list_of_words:\n",
    "        if len(word) == random_word_length:\n",
    "            wordpool.append(word.lower())\n",
    "    return wordpool"
   ]
  },
  {
   "cell_type": "code",
   "execution_count": 66,
   "metadata": {
    "collapsed": false
   },
   "outputs": [
    {
     "ename": "SyntaxError",
     "evalue": "invalid syntax (<ipython-input-66-14d00a99bd92>, line 22)",
     "output_type": "error",
     "traceback": [
      "\u001b[0;36m  File \u001b[0;32m\"<ipython-input-66-14d00a99bd92>\"\u001b[0;36m, line \u001b[0;32m22\u001b[0m\n\u001b[0;31m    for most_occurances\u001b[0m\n\u001b[0m                       ^\u001b[0m\n\u001b[0;31mSyntaxError\u001b[0m\u001b[0;31m:\u001b[0m invalid syntax\n"
     ]
    }
   ],
   "source": [
    "def conami_code(letter):\n",
    "    random_words = azubu_frost()\n",
    "    new_word_pool = []\n",
    "    letter_position = {}\n",
    "    positions = []\n",
    "    most_occurances = []\n",
    "    largest_number_of_occurances = 0\n",
    "    for word in random_words:\n",
    "        if letter in word:\n",
    "            new_word_pool.append(word)\n",
    "    for word in new_word_pool:\n",
    "        positions.append(tuple(find_occurences(word, letter)))\n",
    "    for marker in positions:\n",
    "        if marker not in letter_position:\n",
    "            letter_position[marker] = 1\n",
    "        else:\n",
    "            letter_position[marker] += 1\n",
    "    for position in letter_position:\n",
    "        if letter_position[position] > largest_number_of_occurances:\n",
    "            most_occurances = position\n",
    "            largest_number_of_occurances = letter_position[position]\n",
    "    "
   ]
  },
  {
   "cell_type": "code",
   "execution_count": 65,
   "metadata": {
    "collapsed": false
   },
   "outputs": [
    {
     "data": {
      "text/plain": [
       "[8, 1]"
      ]
     },
     "execution_count": 65,
     "metadata": {},
     "output_type": "execute_result"
    }
   ],
   "source": []
  },
  {
   "cell_type": "code",
   "execution_count": null,
   "metadata": {
    "collapsed": true
   },
   "outputs": [],
   "source": []
  }
 ],
 "metadata": {
  "kernelspec": {
   "display_name": "Python 3",
   "language": "python",
   "name": "python3"
  },
  "language_info": {
   "codemirror_mode": {
    "name": "ipython",
    "version": 3
   },
   "file_extension": ".py",
   "mimetype": "text/x-python",
   "name": "python",
   "nbconvert_exporter": "python",
   "pygments_lexer": "ipython3",
   "version": "3.5.0"
  }
 },
 "nbformat": 4,
 "nbformat_minor": 0
}
