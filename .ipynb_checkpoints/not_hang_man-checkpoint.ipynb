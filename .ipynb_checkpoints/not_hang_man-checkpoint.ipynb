{
 "cells": [
  {
   "cell_type": "code",
   "execution_count": 198,
   "metadata": {
    "collapsed": false
   },
   "outputs": [],
   "source": [
    "with open('words.txt') as infile:\n",
    "    list_of_words = infile.read().split()\n",
    "\n",
    "\n",
    "from random import randint\n",
    "\n",
    "\n",
    "def find_occurences(word, char):\n",
    "    return [i for i, letter in enumerate(word) if letter == char]\n",
    "\n",
    "\n",
    "def random_word(word_list):\n",
    "    random_digit = randint(0,len(word_list))\n",
    "    return word_list[random_digit]\n",
    "\n",
    "\n",
    "def not_hang_man():\n",
    "    word = (random_word(list_of_words)).lower()\n",
    "    letter_list = list(word)\n",
    "    words_guessed = []\n",
    "    print ('your word is {} letters long'.format(len(word)))\n",
    "    num_of_guesses = 0\n",
    "    occurance = []\n",
    "    blank = list('_' * len(word))\n",
    "    \n",
    "    while num_of_guesses < 8:\n",
    "        guess = (input('\\nguess a letter ').lower())\n",
    "        if guess not in words_guessed:\n",
    "            words_guessed.append(guess)\n",
    "            if guess in letter_list:\n",
    "                occurance = find_occurences(letter_list, guess)\n",
    "                for position in occurance:\n",
    "                    blank[position] = letter_list[position]\n",
    "                print(\"\".join(blank))\n",
    "                if ''.join(blank) == word:\n",
    "                    return \"Good Jorb Homestar!!\"\n",
    "                        \n",
    "            else:\n",
    "                print(\"\".join(blank))\n",
    "                num_of_guesses+=1\n",
    "                \n",
    "        else:\n",
    "            print(\"You already guessed that.\")\n",
    "            print(\"\".join(blank))\n",
    "    return 'FAILURE! the word was {}'.format(word)"
   ]
  },
  {
   "cell_type": "code",
   "execution_count": 199,
   "metadata": {
    "collapsed": false
   },
   "outputs": [
    {
     "name": "stdout",
     "output_type": "stream",
     "text": [
      "your word is 2 letters long\n",
      "\n",
      "guess a letter a\n",
      "__\n",
      "\n",
      "guess a letter i\n",
      "__\n",
      "\n",
      "guess a letter e\n",
      "__\n",
      "\n",
      "guess a letter o\n",
      "_o\n",
      "\n",
      "guess a letter s\n",
      "_o\n",
      "\n",
      "guess a letter t\n",
      "_o\n",
      "\n",
      "guess a letter y\n",
      "_o\n",
      "\n",
      "guess a letter d\n",
      "_o\n",
      "\n",
      "guess a letter g\n",
      "_o\n"
     ]
    },
    {
     "data": {
      "text/plain": [
       "'FAILURE! the word was bo'"
      ]
     },
     "execution_count": 199,
     "metadata": {},
     "output_type": "execute_result"
    }
   ],
   "source": [
    "not_hang_man()"
   ]
  },
  {
   "cell_type": "code",
   "execution_count": null,
   "metadata": {
    "collapsed": true
   },
   "outputs": [],
   "source": []
  },
  {
   "cell_type": "code",
   "execution_count": 120,
   "metadata": {
    "collapsed": true
   },
   "outputs": [],
   "source": [
    "word = list('stranger')\n",
    "blank = list('_' * len(word))"
   ]
  },
  {
   "cell_type": "code",
   "execution_count": 78,
   "metadata": {
    "collapsed": false
   },
   "outputs": [],
   "source": [
    "x=1\n",
    "blank[x] = word[x]"
   ]
  },
  {
   "cell_type": "code",
   "execution_count": 79,
   "metadata": {
    "collapsed": false
   },
   "outputs": [
    {
     "data": {
      "text/plain": [
       "'_t______'"
      ]
     },
     "execution_count": 79,
     "metadata": {},
     "output_type": "execute_result"
    }
   ],
   "source": [
    "\"\".join(blank)"
   ]
  },
  {
   "cell_type": "code",
   "execution_count": 121,
   "metadata": {
    "collapsed": false
   },
   "outputs": [
    {
     "data": {
      "text/plain": [
       "'__r____r'"
      ]
     },
     "execution_count": 121,
     "metadata": {},
     "output_type": "execute_result"
    }
   ],
   "source": [
    "guess = 's'\n",
    "if guess in word:\n",
    "    occurance = [i for i, letter in enumerate(word) if letter == char]\n",
    "    for position in occurance:\n",
    "        blank[position] = word[position]\n",
    "\"\".join(blank)"
   ]
  },
  {
   "cell_type": "code",
   "execution_count": 113,
   "metadata": {
    "collapsed": false
   },
   "outputs": [],
   "source": [
    "def find_occurences(word, char):\n",
    "    return [i for i, letter in enumerate(word) if letter == char]"
   ]
  },
  {
   "cell_type": "code",
   "execution_count": 118,
   "metadata": {
    "collapsed": false
   },
   "outputs": [
    {
     "data": {
      "text/plain": [
       "[2, 7]"
      ]
     },
     "execution_count": 118,
     "metadata": {},
     "output_type": "execute_result"
    }
   ],
   "source": [
    "find_occurences(word, 'r')"
   ]
  },
  {
   "cell_type": "code",
   "execution_count": 109,
   "metadata": {
    "collapsed": false
   },
   "outputs": [
    {
     "name": "stdout",
     "output_type": "stream",
     "text": [
      "Help on class enumerate in module builtins:\n",
      "\n",
      "class enumerate(object)\n",
      " |  enumerate(iterable[, start]) -> iterator for index, value of iterable\n",
      " |  \n",
      " |  Return an enumerate object.  iterable must be another object that supports\n",
      " |  iteration.  The enumerate object yields pairs containing a count (from\n",
      " |  start, which defaults to zero) and a value yielded by the iterable argument.\n",
      " |  enumerate is useful for obtaining an indexed list:\n",
      " |      (0, seq[0]), (1, seq[1]), (2, seq[2]), ...\n",
      " |  \n",
      " |  Methods defined here:\n",
      " |  \n",
      " |  __getattribute__(self, name, /)\n",
      " |      Return getattr(self, name).\n",
      " |  \n",
      " |  __iter__(self, /)\n",
      " |      Implement iter(self).\n",
      " |  \n",
      " |  __new__(*args, **kwargs) from builtins.type\n",
      " |      Create and return a new object.  See help(type) for accurate signature.\n",
      " |  \n",
      " |  __next__(self, /)\n",
      " |      Implement next(self).\n",
      " |  \n",
      " |  __reduce__(...)\n",
      " |      Return state information for pickling.\n",
      "\n"
     ]
    }
   ],
   "source": [
    "help(enumerate)"
   ]
  },
  {
   "cell_type": "code",
   "execution_count": 111,
   "metadata": {
    "collapsed": false
   },
   "outputs": [
    {
     "data": {
      "text/plain": [
       "[(0, 's'),\n",
       " (1, 't'),\n",
       " (2, 'r'),\n",
       " (3, 'a'),\n",
       " (4, 'n'),\n",
       " (5, 'g'),\n",
       " (6, 'e'),\n",
       " (7, 'r')]"
      ]
     },
     "execution_count": 111,
     "metadata": {},
     "output_type": "execute_result"
    }
   ],
   "source": [
    "list(enumerate(word))"
   ]
  },
  {
   "cell_type": "code",
   "execution_count": 167,
   "metadata": {
    "collapsed": false
   },
   "outputs": [],
   "source": [
    "def random_word(word_list):\n",
    "    random_digit = randint(0,len(word_list))\n",
    "    return word_list[random_digit]"
   ]
  },
  {
   "cell_type": "code",
   "execution_count": 178,
   "metadata": {
    "collapsed": false
   },
   "outputs": [
    {
     "data": {
      "text/plain": [
       "'countergirded'"
      ]
     },
     "execution_count": 178,
     "metadata": {},
     "output_type": "execute_result"
    }
   ],
   "source": [
    "random_word(list_of_words)"
   ]
  },
  {
   "cell_type": "code",
   "execution_count": null,
   "metadata": {
    "collapsed": true
   },
   "outputs": [],
   "source": []
  }
 ],
 "metadata": {
  "kernelspec": {
   "display_name": "Python 3",
   "language": "python",
   "name": "python3"
  },
  "language_info": {
   "codemirror_mode": {
    "name": "ipython",
    "version": 3
   },
   "file_extension": ".py",
   "mimetype": "text/x-python",
   "name": "python",
   "nbconvert_exporter": "python",
   "pygments_lexer": "ipython3",
   "version": "3.5.0"
  }
 },
 "nbformat": 4,
 "nbformat_minor": 0
}
