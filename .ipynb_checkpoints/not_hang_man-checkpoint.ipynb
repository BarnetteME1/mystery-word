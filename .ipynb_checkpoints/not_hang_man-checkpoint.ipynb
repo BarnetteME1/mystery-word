{
 "cells": [
  {
   "cell_type": "code",
   "execution_count": null,
   "metadata": {
    "collapsed": false
   },
   "outputs": [],
   "source": [
    "def find_occurences(word, char):\n",
    "    return [i for i, letter in enumerate(word) if letter == char]\n",
    "\n",
    "def not_hang_man():\n",
    "    word = list('stranger')\n",
    "    words_guessed = []\n",
    "    print ('your word is {} letters long'.format(len(word)))\n",
    "    num_of_guesses = 0\n",
    "    occurance = []\n",
    "    blank = list('_' * len(word))\n",
    "    \n",
    "    while num_of_guesses < 8:\n",
    "        guess = (input('guess a letter ').lower())\n",
    "        print(\"You're guess is {}\".format(guess))\n",
    "        if guess not in words_guessed:\n",
    "            words_guessed.append(guess)\n",
    "            if guess in word:\n",
    "                occurance = find_occurences(word, guess)\n",
    "                for position in occurance:\n",
    "                    blank[position] = word[position]\n",
    "                    print(\"\".join(blank))\n",
    "                        \n",
    "            else:\n",
    "                n+=1\n",
    "                \n",
    "        else:\n",
    "            print(\"You already guessed that.\")\n",
    "        if blank == ''.join(word):\n",
    "            return \"Good Jorb!!\"\n",
    "    return 'FAILURE!'"
   ]
  },
  {
   "cell_type": "code",
   "execution_count": null,
   "metadata": {
    "collapsed": false
   },
   "outputs": [],
   "source": [
    "not_hang_man()"
   ]
  },
  {
   "cell_type": "code",
   "execution_count": 120,
   "metadata": {
    "collapsed": true
   },
   "outputs": [],
   "source": [
    "word = list('stranger')\n",
    "blank = list('_' * len(word))"
   ]
  },
  {
   "cell_type": "code",
   "execution_count": 78,
   "metadata": {
    "collapsed": false
   },
   "outputs": [],
   "source": [
    "x=1\n",
    "blank[x] = word[x]"
   ]
  },
  {
   "cell_type": "code",
   "execution_count": 79,
   "metadata": {
    "collapsed": false
   },
   "outputs": [
    {
     "data": {
      "text/plain": [
       "'_t______'"
      ]
     },
     "execution_count": 79,
     "metadata": {},
     "output_type": "execute_result"
    }
   ],
   "source": [
    "\"\".join(blank)"
   ]
  },
  {
   "cell_type": "code",
   "execution_count": 121,
   "metadata": {
    "collapsed": false
   },
   "outputs": [
    {
     "data": {
      "text/plain": [
       "'__r____r'"
      ]
     },
     "execution_count": 121,
     "metadata": {},
     "output_type": "execute_result"
    }
   ],
   "source": [
    "guess = 's'\n",
    "if guess in word:\n",
    "    occurance = [i for i, letter in enumerate(word) if letter == char]\n",
    "    for position in occurance:\n",
    "        blank[position] = word[position]\n",
    "\"\".join(blank)"
   ]
  },
  {
   "cell_type": "code",
   "execution_count": 113,
   "metadata": {
    "collapsed": false
   },
   "outputs": [],
   "source": [
    "def find_occurences(word, char):\n",
    "    return [i for i, letter in enumerate(word) if letter == char]"
   ]
  },
  {
   "cell_type": "code",
   "execution_count": 118,
   "metadata": {
    "collapsed": false
   },
   "outputs": [
    {
     "data": {
      "text/plain": [
       "[2, 7]"
      ]
     },
     "execution_count": 118,
     "metadata": {},
     "output_type": "execute_result"
    }
   ],
   "source": [
    "find_occurences(word, 'r')"
   ]
  },
  {
   "cell_type": "code",
   "execution_count": 109,
   "metadata": {
    "collapsed": false
   },
   "outputs": [
    {
     "name": "stdout",
     "output_type": "stream",
     "text": [
      "Help on class enumerate in module builtins:\n",
      "\n",
      "class enumerate(object)\n",
      " |  enumerate(iterable[, start]) -> iterator for index, value of iterable\n",
      " |  \n",
      " |  Return an enumerate object.  iterable must be another object that supports\n",
      " |  iteration.  The enumerate object yields pairs containing a count (from\n",
      " |  start, which defaults to zero) and a value yielded by the iterable argument.\n",
      " |  enumerate is useful for obtaining an indexed list:\n",
      " |      (0, seq[0]), (1, seq[1]), (2, seq[2]), ...\n",
      " |  \n",
      " |  Methods defined here:\n",
      " |  \n",
      " |  __getattribute__(self, name, /)\n",
      " |      Return getattr(self, name).\n",
      " |  \n",
      " |  __iter__(self, /)\n",
      " |      Implement iter(self).\n",
      " |  \n",
      " |  __new__(*args, **kwargs) from builtins.type\n",
      " |      Create and return a new object.  See help(type) for accurate signature.\n",
      " |  \n",
      " |  __next__(self, /)\n",
      " |      Implement next(self).\n",
      " |  \n",
      " |  __reduce__(...)\n",
      " |      Return state information for pickling.\n",
      "\n"
     ]
    }
   ],
   "source": [
    "help(enumerate)"
   ]
  },
  {
   "cell_type": "code",
   "execution_count": 111,
   "metadata": {
    "collapsed": false
   },
   "outputs": [
    {
     "data": {
      "text/plain": [
       "[(0, 's'),\n",
       " (1, 't'),\n",
       " (2, 'r'),\n",
       " (3, 'a'),\n",
       " (4, 'n'),\n",
       " (5, 'g'),\n",
       " (6, 'e'),\n",
       " (7, 'r')]"
      ]
     },
     "execution_count": 111,
     "metadata": {},
     "output_type": "execute_result"
    }
   ],
   "source": [
    "list(enumerate(word))"
   ]
  },
  {
   "cell_type": "code",
   "execution_count": null,
   "metadata": {
    "collapsed": true
   },
   "outputs": [],
   "source": []
  }
 ],
 "metadata": {
  "kernelspec": {
   "display_name": "Python 3",
   "language": "python",
   "name": "python3"
  },
  "language_info": {
   "codemirror_mode": {
    "name": "ipython",
    "version": 3
   },
   "file_extension": ".py",
   "mimetype": "text/x-python",
   "name": "python",
   "nbconvert_exporter": "python",
   "pygments_lexer": "ipython3",
   "version": "3.5.0"
  }
 },
 "nbformat": 4,
 "nbformat_minor": 0
}
