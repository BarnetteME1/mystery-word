{
 "cells": [
  {
   "cell_type": "code",
   "execution_count": 79,
   "metadata": {
    "collapsed": false
   },
   "outputs": [],
   "source": [
    "with open('/usr/share/dict/words') as infile:\n",
    "    list_of_words = infile.read().split()\n",
    "\n",
    "\n",
    "from string import ascii_lowercase\n",
    "from random import randint\n",
    "\n",
    "\n",
    "letter_value = {'a': 1, 'b': 3, 'c': 3, 'd': 2, 'e': 1, 'f': 4, 'g': 2, 'h': 4, 'i': 1,\n",
    "                'j': 8, 'k': 5, 'l': 1, 'm': 3, 'n': 1, 'o': 1, 'p': 3, 'q': 9, 'r': 1,\n",
    "                's': 1, 't': 1, 'u': 1, 'v': 4, 'w': 4, 'x': 8, 'y': 4, 'z': 10}\n",
    "\n",
    "\n",
    "def find_occurences(word, char):\n",
    "    return [i for i, letter in enumerate(word) if letter == char]\n",
    "\n",
    "\n",
    "def play_again():\n",
    "    response = input(\"Do you want to run this program again? Y/N \").lower()\n",
    "    if response == 'y':\n",
    "        print(\"\\n Another word coming your way!\")\n",
    "        not_hang_man()\n",
    "    elif response == 'n':\n",
    "        print(\"Bye.\")\n",
    "        return''\n",
    "    else:\n",
    "        print (\"{} is not an option!\".format(response))\n",
    "        play_again()\n",
    "\n",
    "\n",
    "def random_word(word_list):\n",
    "    random_digit = randint(0,len(word_list))\n",
    "    return word_list[random_digit]\n",
    "\n",
    "\n",
    "def word_value(word):\n",
    "    value = 0\n",
    "    for letter in letter_value:\n",
    "        if letter in word:\n",
    "            value += letter_value[letter]\n",
    "    return value\n",
    "\n",
    "\n",
    "def value_dictionary(word_list):\n",
    "    word_value_dict = {}\n",
    "    for word in word_list:\n",
    "        value = word_value(word)\n",
    "        word_value_dict[word] = value\n",
    "    return word_value_dict\n",
    "dictionary_of_value = value_dictionary(list_of_words)\n",
    "\n",
    "\n",
    "def highest_value(dictionary):\n",
    "    largest_value = 0\n",
    "    for word in dictionary:\n",
    "        if dictionary_of_value[word] > largest_value:\n",
    "            largest_value = dictionary_of_value[word]\n",
    "    return largest_value\n",
    "\n",
    "\n",
    "def difficulty_level():\n",
    "    difficulty = input(\"easy, medium or hard game? \".lower())\n",
    "    word_list = value_dictionary(list_of_words)\n",
    "    numerator = highest_value(word_list)\n",
    "    easy = []\n",
    "    medium = []\n",
    "    hard = []\n",
    "    for word in word_list:\n",
    "        if word_list[word] < (numerator * (1/3)):\n",
    "            easy.append(word)\n",
    "        if word_list[word] < (numerator * (2/3)) and word_list[word] >= (numerator * (1/3)):\n",
    "            medium.append(word)\n",
    "        if word_list[word] <= numerator and word_list[word] >= (numerator * (2/3)):\n",
    "            hard.append(word)\n",
    "    if difficulty == 'easy':\n",
    "        return easy\n",
    "    elif difficulty == 'medium':\n",
    "        return medium\n",
    "    elif difficulty == 'hard':\n",
    "        return hard\n",
    "    else:\n",
    "        print (\"{} is not an option!\".format(difficulty))\n",
    "        difficulty_level()\n",
    "\n",
    "def not_hang_man():\n",
    "    word = (random_word(difficulty_level()).lower())\n",
    "    letter_list = list(word)\n",
    "    words_guessed = []\n",
    "    print ('your word is {} letters long'.format(len(word)))\n",
    "    num_of_guesses = 0\n",
    "    total_guesses = 8\n",
    "    occurance = []\n",
    "    blank = list('_' * len(word))\n",
    "\n",
    "    while num_of_guesses < total_guesses:\n",
    "        remaining = total_guesses-num_of_guesses\n",
    "        print('you can guess {} more times'.format(remaining))\n",
    "        guess = (input('\\nguess a letter ').lower())\n",
    "        if len(guess) > 1:\n",
    "            print (\"That's too many\")\n",
    "            guess = (input('\\nguess a letter ').lower())\n",
    "        if guess not in ascii_lowercase:\n",
    "            print (\"That's not a letter\")\n",
    "            guess = (input('\\nguess a letter ').lower())\n",
    "        if guess not in words_guessed:\n",
    "            words_guessed.append(guess)\n",
    "            if guess in letter_list:\n",
    "                occurance = find_occurences(letter_list, guess)\n",
    "                for position in occurance:\n",
    "                    blank[position] = letter_list[position]\n",
    "                print(\"\".join(blank))\n",
    "                if ''.join(blank) == word:\n",
    "                    print('Good Jorb Homegrown!')\n",
    "                    break\n",
    "            else:\n",
    "                print(\"\".join(blank))\n",
    "                num_of_guesses+=1\n",
    "\n",
    "        else:\n",
    "            print(\"You already guessed that.\")\n",
    "            print(\"\".join(blank))\n",
    "    if num_of_guesses >= 8:\n",
    "        print('FAILURE! the word was {}'.format(word))\n",
    "    play_again()\n",
    "    return ''"
   ]
  },
  {
   "cell_type": "code",
   "execution_count": 64,
   "metadata": {
    "collapsed": false
   },
   "outputs": [
    {
     "name": "stdout",
     "output_type": "stream",
     "text": [
      "easy, medium or hard game? j\n",
      "j is not an option!\n",
      "easy, medium or hard game? easy\n"
     ]
    },
    {
     "ename": "TypeError",
     "evalue": "object of type 'NoneType' has no len()",
     "output_type": "error",
     "traceback": [
      "\u001b[0;31m---------------------------------------------------------------------------\u001b[0m",
      "\u001b[0;31mTypeError\u001b[0m                                 Traceback (most recent call last)",
      "\u001b[0;32m<ipython-input-64-f8be28726d7c>\u001b[0m in \u001b[0;36m<module>\u001b[0;34m()\u001b[0m\n\u001b[0;32m----> 1\u001b[0;31m \u001b[0mnot_hang_man\u001b[0m\u001b[0;34m(\u001b[0m\u001b[0;34m)\u001b[0m\u001b[0;34m\u001b[0m\u001b[0m\n\u001b[0m",
      "\u001b[0;32m<ipython-input-60-33c27bbdc9ee>\u001b[0m in \u001b[0;36mnot_hang_man\u001b[0;34m()\u001b[0m\n\u001b[1;32m     84\u001b[0m \u001b[0;34m\u001b[0m\u001b[0m\n\u001b[1;32m     85\u001b[0m \u001b[0;32mdef\u001b[0m \u001b[0mnot_hang_man\u001b[0m\u001b[0;34m(\u001b[0m\u001b[0;34m)\u001b[0m\u001b[0;34m:\u001b[0m\u001b[0;34m\u001b[0m\u001b[0m\n\u001b[0;32m---> 86\u001b[0;31m     \u001b[0mword\u001b[0m \u001b[0;34m=\u001b[0m \u001b[0;34m(\u001b[0m\u001b[0mrandom_word\u001b[0m\u001b[0;34m(\u001b[0m\u001b[0mdifficulty_level\u001b[0m\u001b[0;34m(\u001b[0m\u001b[0;34m)\u001b[0m\u001b[0;34m)\u001b[0m\u001b[0;34m.\u001b[0m\u001b[0mlower\u001b[0m\u001b[0;34m(\u001b[0m\u001b[0;34m)\u001b[0m\u001b[0;34m)\u001b[0m\u001b[0;34m\u001b[0m\u001b[0m\n\u001b[0m\u001b[1;32m     87\u001b[0m     \u001b[0mletter_list\u001b[0m \u001b[0;34m=\u001b[0m \u001b[0mlist\u001b[0m\u001b[0;34m(\u001b[0m\u001b[0mword\u001b[0m\u001b[0;34m)\u001b[0m\u001b[0;34m\u001b[0m\u001b[0m\n\u001b[1;32m     88\u001b[0m     \u001b[0mwords_guessed\u001b[0m \u001b[0;34m=\u001b[0m \u001b[0;34m[\u001b[0m\u001b[0;34m]\u001b[0m\u001b[0;34m\u001b[0m\u001b[0m\n",
      "\u001b[0;32m<ipython-input-60-33c27bbdc9ee>\u001b[0m in \u001b[0;36mrandom_word\u001b[0;34m(word_list)\u001b[0m\n\u001b[1;32m     30\u001b[0m \u001b[0;34m\u001b[0m\u001b[0m\n\u001b[1;32m     31\u001b[0m \u001b[0;32mdef\u001b[0m \u001b[0mrandom_word\u001b[0m\u001b[0;34m(\u001b[0m\u001b[0mword_list\u001b[0m\u001b[0;34m)\u001b[0m\u001b[0;34m:\u001b[0m\u001b[0;34m\u001b[0m\u001b[0m\n\u001b[0;32m---> 32\u001b[0;31m     \u001b[0mrandom_digit\u001b[0m \u001b[0;34m=\u001b[0m \u001b[0mrandint\u001b[0m\u001b[0;34m(\u001b[0m\u001b[0;36m0\u001b[0m\u001b[0;34m,\u001b[0m\u001b[0mlen\u001b[0m\u001b[0;34m(\u001b[0m\u001b[0mword_list\u001b[0m\u001b[0;34m)\u001b[0m\u001b[0;34m)\u001b[0m\u001b[0;34m\u001b[0m\u001b[0m\n\u001b[0m\u001b[1;32m     33\u001b[0m     \u001b[0;32mreturn\u001b[0m \u001b[0mword_list\u001b[0m\u001b[0;34m[\u001b[0m\u001b[0mrandom_digit\u001b[0m\u001b[0;34m]\u001b[0m\u001b[0;34m\u001b[0m\u001b[0m\n\u001b[1;32m     34\u001b[0m \u001b[0;34m\u001b[0m\u001b[0m\n",
      "\u001b[0;31mTypeError\u001b[0m: object of type 'NoneType' has no len()"
     ]
    }
   ],
   "source": [
    "not_hang_man()"
   ]
  },
  {
   "cell_type": "code",
   "execution_count": 80,
   "metadata": {
    "collapsed": false
   },
   "outputs": [],
   "source": [
    "def difficulty_level(difficulty = 'medium'):\n",
    "    difficulty = input(\"easy, medium or hard game? \".lower())\n",
    "    word_list = value_dictionary(list_of_words)\n",
    "    numerator = highest_value(word_list)\n",
    "    easy = []\n",
    "    medium = []\n",
    "    hard = []\n",
    "    for word in word_list:\n",
    "        if word_list[word] < (numerator * (1/3)):\n",
    "            easy.append(word)\n",
    "        if word_list[word] < (numerator * (2/3)) and word_list[word] >= (numerator * (1/3)):\n",
    "            medium.append(word)\n",
    "        if word_list[word] <= numerator and word_list[word] >= (numerator * (2/3)):\n",
    "            hard.append(word)\n",
    "    if difficulty == 'easy':\n",
    "        return easy\n",
    "    elif difficulty == 'medium':\n",
    "        return medium\n",
    "    elif difficulty == 'hard':\n",
    "        return hard\n",
    "    else:\n",
    "        print (\"{} is not an option!\".format(difficulty))\n",
    "        difficulty_level(difficulty)\n"
   ]
  },
  {
   "cell_type": "code",
   "execution_count": 69,
   "metadata": {
    "collapsed": false
   },
   "outputs": [
    {
     "name": "stdout",
     "output_type": "stream",
     "text": [
      "easy, medium or hard game? j\n",
      "j is not an option!\n",
      "easy, medium or hard game? easy\n"
     ]
    },
    {
     "ename": "TypeError",
     "evalue": "object of type 'NoneType' has no len()",
     "output_type": "error",
     "traceback": [
      "\u001b[0;31m---------------------------------------------------------------------------\u001b[0m",
      "\u001b[0;31mTypeError\u001b[0m                                 Traceback (most recent call last)",
      "\u001b[0;32m<ipython-input-69-69253ae87b19>\u001b[0m in \u001b[0;36m<module>\u001b[0;34m()\u001b[0m\n\u001b[0;32m----> 1\u001b[0;31m \u001b[0;34m(\u001b[0m\u001b[0mrandom_word\u001b[0m\u001b[0;34m(\u001b[0m\u001b[0mdifficulty_level\u001b[0m\u001b[0;34m(\u001b[0m\u001b[0;34m)\u001b[0m\u001b[0;34m)\u001b[0m\u001b[0;34m.\u001b[0m\u001b[0mlower\u001b[0m\u001b[0;34m(\u001b[0m\u001b[0;34m)\u001b[0m\u001b[0;34m)\u001b[0m\u001b[0;34m\u001b[0m\u001b[0m\n\u001b[0m",
      "\u001b[0;32m<ipython-input-67-7664b706ce98>\u001b[0m in \u001b[0;36mrandom_word\u001b[0;34m(word_list)\u001b[0m\n\u001b[1;32m      1\u001b[0m \u001b[0;32mdef\u001b[0m \u001b[0mrandom_word\u001b[0m\u001b[0;34m(\u001b[0m\u001b[0mword_list\u001b[0m\u001b[0;34m)\u001b[0m\u001b[0;34m:\u001b[0m\u001b[0;34m\u001b[0m\u001b[0m\n\u001b[0;32m----> 2\u001b[0;31m     \u001b[0mrandom_digit\u001b[0m \u001b[0;34m=\u001b[0m \u001b[0mrandint\u001b[0m\u001b[0;34m(\u001b[0m\u001b[0;36m0\u001b[0m\u001b[0;34m,\u001b[0m\u001b[0mlen\u001b[0m\u001b[0;34m(\u001b[0m\u001b[0mword_list\u001b[0m\u001b[0;34m)\u001b[0m\u001b[0;34m)\u001b[0m\u001b[0;34m\u001b[0m\u001b[0m\n\u001b[0m\u001b[1;32m      3\u001b[0m     \u001b[0;32mreturn\u001b[0m \u001b[0mword_list\u001b[0m\u001b[0;34m[\u001b[0m\u001b[0mrandom_digit\u001b[0m\u001b[0;34m]\u001b[0m\u001b[0;34m\u001b[0m\u001b[0m\n\u001b[1;32m      4\u001b[0m \u001b[0;34m\u001b[0m\u001b[0m\n\u001b[1;32m      5\u001b[0m \u001b[0;32mdef\u001b[0m \u001b[0mdifficulty_level\u001b[0m\u001b[0;34m(\u001b[0m\u001b[0;34m)\u001b[0m\u001b[0;34m:\u001b[0m\u001b[0;34m\u001b[0m\u001b[0m\n",
      "\u001b[0;31mTypeError\u001b[0m: object of type 'NoneType' has no len()"
     ]
    }
   ],
   "source": [
    "(random_word(difficulty_level()).lower())"
   ]
  },
  {
   "cell_type": "code",
   "execution_count": 81,
   "metadata": {
    "collapsed": false
   },
   "outputs": [
    {
     "name": "stdout",
     "output_type": "stream",
     "text": [
      "easy, medium or hard game? cracked\n",
      "cracked is not an option!\n",
      "easy, medium or hard game? easy\n"
     ]
    }
   ],
   "source": [
    "difficulty_level()"
   ]
  },
  {
   "cell_type": "code",
   "execution_count": null,
   "metadata": {
    "collapsed": true
   },
   "outputs": [],
   "source": []
  }
 ],
 "metadata": {
  "kernelspec": {
   "display_name": "Python 3",
   "language": "python",
   "name": "python3"
  },
  "language_info": {
   "codemirror_mode": {
    "name": "ipython",
    "version": 3
   },
   "file_extension": ".py",
   "mimetype": "text/x-python",
   "name": "python",
   "nbconvert_exporter": "python",
   "pygments_lexer": "ipython3",
   "version": "3.5.0"
  }
 },
 "nbformat": 4,
 "nbformat_minor": 0
}
