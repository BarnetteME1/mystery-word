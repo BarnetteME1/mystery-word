{
 "cells": [
  {
   "cell_type": "code",
   "execution_count": 47,
   "metadata": {
    "collapsed": false
   },
   "outputs": [],
   "source": [
    "with open('words.txt') as infile:\n",
    "    list_of_words = infile.read().split()\n",
    "\n",
    "\n",
    "from random import randint\n",
    "\n",
    "\n",
    "def find_occurences(word, char):\n",
    "    return [i for i, letter in enumerate(word) if letter == char]\n",
    "\n",
    "\n",
    "def random_word(word_list):\n",
    "    random_digit = randint(0,len(word_list))\n",
    "    return word_list[random_digit]\n",
    "\n",
    "\n",
    "def not_hang_man():\n",
    "    word = (random_word(list_of_words)).lower()\n",
    "    letter_list = list(word)\n",
    "    words_guessed = []\n",
    "    print ('your word is {} letters long'.format(len(word)))\n",
    "    num_of_guesses = 0\n",
    "    total_guesses = 8\n",
    "    occurance = []\n",
    "    blank = list('_' * len(word))\n",
    "    \n",
    "    while num_of_guesses < total_guesses:\n",
    "        remaining = total_guesses-num_of_guesses\n",
    "        print('you can guess {} more times'.format(remaining))\n",
    "        guess = (input('\\nguess a letter ').lower())\n",
    "        if guess not in words_guessed:\n",
    "            words_guessed.append(guess)\n",
    "            if guess in letter_list:\n",
    "                occurance = find_occurences(letter_list, guess)\n",
    "                for position in occurance:\n",
    "                    blank[position] = letter_list[position]\n",
    "                print(\"\".join(blank))\n",
    "                if ''.join(blank) == word:\n",
    "                    print('Good Jorb Homegrown!')\n",
    "                    response = input(\"Do you want to run this program again? Y/N \").lower()\n",
    "                    if response == 'y':\n",
    "                        print(\"\\nLet's go again\")\n",
    "                        not_hang_man()\n",
    "                    if response == 'n':\n",
    "                        return \"Bye.\"\n",
    "            else:\n",
    "                print(\"\".join(blank))\n",
    "                num_of_guesses+=1\n",
    "                \n",
    "        else:\n",
    "            print(\"You already guessed that.\")\n",
    "            print(\"\".join(blank))\n",
    "    print('FAILURE! the word was {}'.format(word))\n",
    "    response = input(\"Do you want to run this program again? Y/N \").lower()\n",
    "    if response == 'y':\n",
    "        print(\"\\nLet's go again\")\n",
    "        not_hang_man()\n",
    "    if response == 'n':\n",
    "        return \"Bye.\""
   ]
  },
  {
   "cell_type": "code",
   "execution_count": 48,
   "metadata": {
    "collapsed": false
   },
   "outputs": [
    {
     "name": "stdout",
     "output_type": "stream",
     "text": [
      "your word is 10 letters long\n",
      "you can guess 8 more times\n",
      "\n",
      "guess a letter j\n",
      "__________\n",
      "you can guess 7 more times\n",
      "\n",
      "guess a letter k\n",
      "__________\n",
      "you can guess 6 more times\n",
      "\n",
      "guess a letter q\n",
      "__________\n",
      "you can guess 5 more times\n",
      "\n",
      "guess a letter z\n",
      "__________\n",
      "you can guess 4 more times\n",
      "\n",
      "guess a letter f\n",
      "__________\n",
      "you can guess 3 more times\n",
      "\n",
      "guess a letter j\n",
      "You already guessed that.\n",
      "__________\n",
      "you can guess 3 more times\n",
      "\n",
      "guess a letter ei\n",
      "__________\n",
      "you can guess 2 more times\n",
      "\n",
      "guess a letter l\n",
      "__________\n",
      "you can guess 1 more times\n",
      "\n",
      "guess a letter j\n",
      "You already guessed that.\n",
      "__________\n",
      "you can guess 1 more times\n",
      "\n",
      "guess a letter h\n",
      "_________h\n",
      "you can guess 1 more times\n",
      "\n",
      "guess a letter n\n",
      "_____nn__h\n",
      "you can guess 1 more times\n",
      "\n",
      "guess a letter m\n",
      "_____nn__h\n",
      "FAILURE! the word was eireannach\n",
      "Do you want to run this program again? Y/N n\n"
     ]
    },
    {
     "data": {
      "text/plain": [
       "'Bye.'"
      ]
     },
     "execution_count": 48,
     "metadata": {},
     "output_type": "execute_result"
    }
   ],
   "source": [
    "not_hang_man()"
   ]
  },
  {
   "cell_type": "code",
   "execution_count": 2,
   "metadata": {
    "collapsed": false
   },
   "outputs": [],
   "source": [
    "def difficulty_level(difficulty = 'medium'):"
   ]
  },
  {
   "cell_type": "code",
   "execution_count": 25,
   "metadata": {
    "collapsed": false
   },
   "outputs": [],
   "source": [
    "def repeat():\n",
    "    response = input(\"Do you want to run this program again?\").lower()\n",
    "    if response == 'yes':\n",
    "        print(\"\\nLet's go again\")\n",
    "        repeat()\n",
    "    if response == 'no':\n",
    "        return \"Bye.\""
   ]
  },
  {
   "cell_type": "code",
   "execution_count": 26,
   "metadata": {
    "collapsed": false
   },
   "outputs": [
    {
     "name": "stdout",
     "output_type": "stream",
     "text": [
      "Do you want to run this program again?Yes\n",
      "\n",
      "Let's go again\n",
      "Do you want to run this program again?Yes\n",
      "\n",
      "Let's go again\n",
      "Do you want to run this program again?Yes\n",
      "\n",
      "Let's go again\n",
      "Do you want to run this program again?Yes\n",
      "\n",
      "Let's go again\n",
      "Do you want to run this program again?No\n"
     ]
    }
   ],
   "source": []
  },
  {
   "cell_type": "code",
   "execution_count": null,
   "metadata": {
    "collapsed": true
   },
   "outputs": [],
   "source": []
  }
 ],
 "metadata": {
  "kernelspec": {
   "display_name": "Python 3",
   "language": "python",
   "name": "python3"
  },
  "language_info": {
   "codemirror_mode": {
    "name": "ipython",
    "version": 3
   },
   "file_extension": ".py",
   "mimetype": "text/x-python",
   "name": "python",
   "nbconvert_exporter": "python",
   "pygments_lexer": "ipython3",
   "version": "3.5.0"
  }
 },
 "nbformat": 4,
 "nbformat_minor": 0
}
